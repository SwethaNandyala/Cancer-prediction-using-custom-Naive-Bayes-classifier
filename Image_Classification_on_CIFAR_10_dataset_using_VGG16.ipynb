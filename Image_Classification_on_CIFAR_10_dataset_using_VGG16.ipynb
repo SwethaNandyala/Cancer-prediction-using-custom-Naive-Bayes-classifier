{
  "cells": [
    {
      "cell_type": "markdown",
      "metadata": {
        "id": "view-in-github",
        "colab_type": "text"
      },
      "source": [
        "<a href=\"https://colab.research.google.com/github/SwethaNandyala/Cancer-prediction-using-custom-Naive-Bayes-classifier/blob/main/Image_Classification_on_CIFAR_10_dataset_using_VGG16.ipynb\" target=\"_parent\"><img src=\"https://colab.research.google.com/assets/colab-badge.svg\" alt=\"Open In Colab\"/></a>"
      ]
    },
    {
      "cell_type": "code",
      "execution_count": 1,
      "id": "b7222671",
      "metadata": {
        "id": "b7222671"
      },
      "outputs": [],
      "source": [
        "import numpy as np\n",
        "import pandas as pd\n",
        "import matplotlib.pyplot as plt\n",
        "\n",
        "from sklearn.model_selection import train_test_split\n",
        "\n",
        "import tensorflow as tf\n",
        "from tensorflow.keras.datasets import cifar10\n",
        "from tensorflow.keras import Sequential,Model\n",
        "from tensorflow.keras.layers import Conv2D,Dense,Flatten,BatchNormalization,Dropout,MaxPooling2D\n",
        "\n",
        "from tensorflow.keras.losses import CategoricalCrossentropy\n",
        "from tensorflow.keras.optimizers import Adam,SGD\n",
        "from tensorflow.keras.utils import to_categorical\n",
        "from tensorflow.keras.regularizers import L1\n",
        "from tensorflow.keras.preprocessing.image import ImageDataGenerator"
      ]
    },
    {
      "cell_type": "markdown",
      "id": "5e06da93",
      "metadata": {
        "id": "5e06da93"
      },
      "source": [
        "# The classes are:\n",
        "\n",
        "| Label | Description |\n",
        "|:-----:|-------------|\n",
        "|   0   | airplane    |\n",
        "|   1   | automobile  |\n",
        "|   2   | bird        |\n",
        "|   3   | cat         |\n",
        "|   4   | deer        |\n",
        "|   5   | dog         |\n",
        "|   6   | frog        |\n",
        "|   7   | horse       |\n",
        "|   8   | ship        |\n",
        "|   9   | truck       |"
      ]
    },
    {
      "cell_type": "code",
      "execution_count": 2,
      "id": "ca3ec0ac",
      "metadata": {
        "id": "ca3ec0ac"
      },
      "outputs": [],
      "source": [
        "(x_train, y_train), (x_test, y_test) = cifar10.load_data()"
      ]
    },
    {
      "cell_type": "code",
      "execution_count": 3,
      "id": "39b3abcb",
      "metadata": {
        "id": "39b3abcb"
      },
      "outputs": [],
      "source": [
        "x_train,x_val,y_train,y_val = train_test_split(x_train,y_train,test_size=0.10,random_state = 42)"
      ]
    },
    {
      "cell_type": "code",
      "execution_count": 4,
      "id": "c8818123",
      "metadata": {
        "id": "c8818123"
      },
      "outputs": [],
      "source": [
        "import cv2"
      ]
    },
    {
      "cell_type": "code",
      "execution_count": 5,
      "id": "969cf917",
      "metadata": {
        "colab": {
          "base_uri": "https://localhost:8080/",
          "height": 447
        },
        "id": "969cf917",
        "outputId": "f1cc3177-950d-406f-a3c2-58c3d62a5cf4"
      },
      "outputs": [
        {
          "output_type": "execute_result",
          "data": {
            "text/plain": [
              "<matplotlib.image.AxesImage at 0x7ce790f36590>"
            ]
          },
          "metadata": {},
          "execution_count": 5
        },
        {
          "output_type": "display_data",
          "data": {
            "text/plain": [
              "<Figure size 640x480 with 1 Axes>"
            ],
            "image/png": "[encoded data removed]"
          },
          "metadata": {}
        }
      ],
      "source": [
        "plt.imshow(x_train[2])"
      ]
    },
    {
      "cell_type": "code",
      "execution_count": 6,
      "id": "2ef07a31",
      "metadata": {
        "colab": {
          "base_uri": "https://localhost:8080/"
        },
        "id": "2ef07a31",
        "outputId": "9f535807-8f85-4dc0-d921-8ef533d4d9a8"
      },
      "outputs": [
        {
          "output_type": "execute_result",
          "data": {
            "text/plain": [
              "array([0], dtype=uint8)"
            ]
          },
          "metadata": {},
          "execution_count": 6
        }
      ],
      "source": [
        "y_train[2] #-->airplane"
      ]
    },
    {
      "cell_type": "code",
      "execution_count": 7,
      "id": "6e38050a",
      "metadata": {
        "id": "6e38050a"
      },
      "outputs": [],
      "source": [
        "sample_resized = cv2.resize(x_train[2],(64,64),interpolation = cv2.INTER_AREA)"
      ]
    },
    {
      "cell_type": "code",
      "execution_count": 8,
      "id": "54918cbd",
      "metadata": {
        "colab": {
          "base_uri": "https://localhost:8080/",
          "height": 449
        },
        "id": "54918cbd",
        "outputId": "4ad2e6a5-af1e-4268-e313-41a0d2397017"
      },
      "outputs": [
        {
          "output_type": "execute_result",
          "data": {
            "text/plain": [
              "<matplotlib.image.AxesImage at 0x7ce790b88250>"
            ]
          },
          "metadata": {},
          "execution_count": 8
        },
        {
          "output_type": "display_data",
          "data": {
            "text/plain": [
              "<Figure size 640x480 with 1 Axes>"
            ],
            "image/png": "[encoded data removed]"
          },
          "metadata": {}
        }
      ],
      "source": [
        "plt.imshow(sample_resized)"
      ]
    },
    {
      "cell_type": "code",
      "execution_count": 9,
      "id": "ff2ea6d5",
      "metadata": {
        "id": "ff2ea6d5"
      },
      "outputs": [],
      "source": [
        "x_train = np.array([cv2.resize(i,(64,64),interpolation = cv2.INTER_AREA) for i in x_train])\n",
        "x_val  = np.array([cv2.resize(i,(64,64),interpolation = cv2.INTER_AREA) for i in x_val])\n",
        "X_test  = np.array([cv2.resize(i,(64,64),interpolation = cv2.INTER_AREA) for i in x_test])"
      ]
    },
    {
      "cell_type": "code",
      "source": [
        "X_test = X_test/255.0"
      ],
      "metadata": {
        "id": "VXYIFCzHq8_9"
      },
      "id": "VXYIFCzHq8_9",
      "execution_count": 10,
      "outputs": []
    },
    {
      "cell_type": "code",
      "execution_count": 11,
      "id": "c6907bba",
      "metadata": {
        "id": "c6907bba"
      },
      "outputs": [],
      "source": [
        "y_train = to_categorical(y_train,10)\n",
        "y_val = to_categorical(y_val,10)\n",
        "y_test = to_categorical(y_test,10)"
      ]
    },
    {
      "cell_type": "code",
      "execution_count": 12,
      "id": "425bbc65",
      "metadata": {
        "id": "425bbc65"
      },
      "outputs": [],
      "source": [
        "input_shape = x_train[0].shape\n",
        "no_of_classes = 10"
      ]
    },
    {
      "cell_type": "code",
      "execution_count": 13,
      "id": "868e70ea",
      "metadata": {
        "id": "868e70ea"
      },
      "outputs": [],
      "source": [
        "from tensorflow.keras.applications import vgg16 as vgg"
      ]
    },
    {
      "cell_type": "code",
      "execution_count": 14,
      "id": "1cba6bae",
      "metadata": {
        "id": "1cba6bae"
      },
      "outputs": [],
      "source": [
        "basemodel = vgg.VGG16(include_top=False,\n",
        "    weights='imagenet',\n",
        "    input_shape=input_shape,\n",
        "    classes=no_of_classes)"
      ]
    },
    {
      "cell_type": "code",
      "execution_count": 15,
      "id": "269d4960",
      "metadata": {
        "colab": {
          "base_uri": "https://localhost:8080/"
        },
        "id": "269d4960",
        "outputId": "44b8b10a-03be-4fa4-c5ff-f4a95d22b122"
      },
      "outputs": [
        {
          "output_type": "execute_result",
          "data": {
            "text/plain": [
              "(None, 64, 64, 3)"
            ]
          },
          "metadata": {},
          "execution_count": 15
        }
      ],
      "source": [
        "basemodel.input_shape"
      ]
    },
    {
      "cell_type": "code",
      "execution_count": 16,
      "id": "dde2eb72",
      "metadata": {
        "colab": {
          "base_uri": "https://localhost:8080/"
        },
        "id": "dde2eb72",
        "outputId": "c32989fd-307b-4d6c-88bf-5dfc006f95d3"
      },
      "outputs": [
        {
          "output_type": "execute_result",
          "data": {
            "text/plain": [
              "(None, 2, 2, 512)"
            ]
          },
          "metadata": {},
          "execution_count": 16
        }
      ],
      "source": [
        "basemodel.output_shape"
      ]
    },
    {
      "cell_type": "code",
      "execution_count": 17,
      "id": "c025d1ca",
      "metadata": {
        "colab": {
          "base_uri": "https://localhost:8080/"
        },
        "id": "c025d1ca",
        "outputId": "c2d8f38a-ac3c-4c03-f5db-3709d6c4f9ae"
      },
      "outputs": [
        {
          "output_type": "stream",
          "name": "stdout",
          "text": [
            "Model: \"vgg16\"\n",
            "_________________________________________________________________\n",
            " Layer (type)                Output Shape              Param #   \n",
            "=================================================================\n",
            " input_1 (InputLayer)        [(None, 64, 64, 3)]       0         \n",
            "                                                                 \n",
            " block1_conv1 (Conv2D)       (None, 64, 64, 64)        1792      \n",
            "                                                                 \n",
            " block1_conv2 (Conv2D)       (None, 64, 64, 64)        36928     \n",
            "                                                                 \n",
            " block1_pool (MaxPooling2D)  (None, 32, 32, 64)        0         \n",
            "                                                                 \n",
            " block2_conv1 (Conv2D)       (None, 32, 32, 128)       73856     \n",
            "                                                                 \n",
            " block2_conv2 (Conv2D)       (None, 32, 32, 128)       147584    \n",
            "                                                                 \n",
            " block2_pool (MaxPooling2D)  (None, 16, 16, 128)       0         \n",
            "                                                                 \n",
            " block3_conv1 (Conv2D)       (None, 16, 16, 256)       295168    \n",
            "                                                                 \n",
            " block3_conv2 (Conv2D)       (None, 16, 16, 256)       590080    \n",
            "                                                                 \n",
            " block3_conv3 (Conv2D)       (None, 16, 16, 256)       590080    \n",
            "                                                                 \n",
            " block3_pool (MaxPooling2D)  (None, 8, 8, 256)         0         \n",
            "                                                                 \n",
            " block4_conv1 (Conv2D)       (None, 8, 8, 512)         1180160   \n",
            "                                                                 \n",
            " block4_conv2 (Conv2D)       (None, 8, 8, 512)         2359808   \n",
            "                                                                 \n",
            " block4_conv3 (Conv2D)       (None, 8, 8, 512)         2359808   \n",
            "                                                                 \n",
            " block4_pool (MaxPooling2D)  (None, 4, 4, 512)         0         \n",
            "                                                                 \n",
            " block5_conv1 (Conv2D)       (None, 4, 4, 512)         2359808   \n",
            "                                                                 \n",
            " block5_conv2 (Conv2D)       (None, 4, 4, 512)         2359808   \n",
            "                                                                 \n",
            " block5_conv3 (Conv2D)       (None, 4, 4, 512)         2359808   \n",
            "                                                                 \n",
            " block5_pool (MaxPooling2D)  (None, 2, 2, 512)         0         \n",
            "                                                                 \n",
            "=================================================================\n",
            "Total params: 14714688 (56.13 MB)\n",
            "Trainable params: 14714688 (56.13 MB)\n",
            "Non-trainable params: 0 (0.00 Byte)\n",
            "_________________________________________________________________\n"
          ]
        }
      ],
      "source": [
        "basemodel.summary()"
      ]
    },
    {
      "cell_type": "code",
      "execution_count": 18,
      "id": "e43f16a8",
      "metadata": {
        "id": "e43f16a8"
      },
      "outputs": [],
      "source": [
        "block3_output = basemodel.get_layer('block3_pool').output\n",
        "## Add our dense layers\n",
        "x= BatchNormalization()(block3_output)\n",
        "\n",
        "x = Flatten()(x)\n",
        "\n",
        "#Adding the Dense layers\n",
        "\n",
        "x = Dense(512,activation=('relu'))(x)\n",
        "x = Dense(256,activation=('relu'))(x)\n",
        "output = Dense(no_of_classes,activation=('softmax'))(x)\n",
        "#This is the classification layer"
      ]
    },
    {
      "cell_type": "code",
      "execution_count": 18,
      "id": "28eae50e",
      "metadata": {
        "id": "28eae50e"
      },
      "outputs": [],
      "source": []
    },
    {
      "cell_type": "code",
      "execution_count": 19,
      "id": "2a440fdb",
      "metadata": {
        "colab": {
          "base_uri": "https://localhost:8080/"
        },
        "id": "2a440fdb",
        "outputId": "1c580f94-6c12-4e81-d4a8-8c331ff462af"
      },
      "outputs": [
        {
          "output_type": "stream",
          "name": "stdout",
          "text": [
            "Model: \"model\"\n",
            "_________________________________________________________________\n",
            " Layer (type)                Output Shape              Param #   \n",
            "=================================================================\n",
            " input_1 (InputLayer)        [(None, 64, 64, 3)]       0         \n",
            "                                                                 \n",
            " block1_conv1 (Conv2D)       (None, 64, 64, 64)        1792      \n",
            "                                                                 \n",
            " block1_conv2 (Conv2D)       (None, 64, 64, 64)        36928     \n",
            "                                                                 \n",
            " block1_pool (MaxPooling2D)  (None, 32, 32, 64)        0         \n",
            "                                                                 \n",
            " block2_conv1 (Conv2D)       (None, 32, 32, 128)       73856     \n",
            "                                                                 \n",
            " block2_conv2 (Conv2D)       (None, 32, 32, 128)       147584    \n",
            "                                                                 \n",
            " block2_pool (MaxPooling2D)  (None, 16, 16, 128)       0         \n",
            "                                                                 \n",
            " block3_conv1 (Conv2D)       (None, 16, 16, 256)       295168    \n",
            "                                                                 \n",
            " block3_conv2 (Conv2D)       (None, 16, 16, 256)       590080    \n",
            "                                                                 \n",
            " block3_conv3 (Conv2D)       (None, 16, 16, 256)       590080    \n",
            "                                                                 \n",
            " block3_pool (MaxPooling2D)  (None, 8, 8, 256)         0         \n",
            "                                                                 \n",
            " batch_normalization (Batch  (None, 8, 8, 256)         1024      \n",
            " Normalization)                                                  \n",
            "                                                                 \n",
            " flatten (Flatten)           (None, 16384)             0         \n",
            "                                                                 \n",
            " dense (Dense)               (None, 512)               8389120   \n",
            "                                                                 \n",
            " dense_1 (Dense)             (None, 256)               131328    \n",
            "                                                                 \n",
            " dense_2 (Dense)             (None, 10)                2570      \n",
            "                                                                 \n",
            "=================================================================\n",
            "Total params: 10259530 (39.14 MB)\n",
            "Trainable params: 10259018 (39.14 MB)\n",
            "Non-trainable params: 512 (2.00 KB)\n",
            "_________________________________________________________________\n"
          ]
        }
      ],
      "source": [
        "model = Model(inputs=basemodel.input, outputs=output)\n",
        "model.summary()"
      ]
    },
    {
      "cell_type": "code",
      "execution_count": 19,
      "id": "f9e2857d",
      "metadata": {
        "id": "f9e2857d"
      },
      "outputs": [],
      "source": []
    },
    {
      "cell_type": "code",
      "execution_count": 20,
      "id": "2ff3b638",
      "metadata": {
        "id": "2ff3b638"
      },
      "outputs": [],
      "source": [
        "for layer in basemodel.layers:\n",
        "    layer.trainable = False"
      ]
    },
    {
      "cell_type": "code",
      "execution_count": 21,
      "id": "006e5f9c",
      "metadata": {
        "id": "006e5f9c"
      },
      "outputs": [],
      "source": [
        "opt = Adam(learning_rate=0.0001)\n",
        "model.compile(optimizer=opt,loss=CategoricalCrossentropy(),metrics=['accuracy'])"
      ]
    },
    {
      "cell_type": "code",
      "execution_count": 22,
      "id": "d7eac6ab",
      "metadata": {
        "id": "d7eac6ab"
      },
      "outputs": [],
      "source": [
        "no_of_epochs = 4\n",
        "batch_size = 64"
      ]
    },
    {
      "cell_type": "code",
      "execution_count": 23,
      "id": "cd1f41aa",
      "metadata": {
        "id": "cd1f41aa"
      },
      "outputs": [],
      "source": [
        "train_datagen = ImageDataGenerator(horizontal_flip=True,rescale=1.0/255)\n",
        "train_datagen.fit(x_train)\n",
        "train_datagenerator = train_datagen.flow(x_train,y_train,batch_size=batch_size)"
      ]
    },
    {
      "cell_type": "code",
      "execution_count": 24,
      "id": "d836d35b",
      "metadata": {
        "id": "d836d35b"
      },
      "outputs": [],
      "source": [
        "val_datagen = ImageDataGenerator(horizontal_flip=True,rescale=1.0/255)\n",
        "val_datagen.fit(x_val)\n",
        "val_datagenerator = val_datagen.flow(x_val,y_val,batch_size=batch_size)"
      ]
    },
    {
      "cell_type": "code",
      "execution_count": 25,
      "id": "4dc85e65",
      "metadata": {
        "scrolled": false,
        "colab": {
          "base_uri": "https://localhost:8080/"
        },
        "id": "4dc85e65",
        "outputId": "f371e7a6-806e-42ce-c031-1c3118e2ac71"
      },
      "outputs": [
        {
          "output_type": "stream",
          "name": "stdout",
          "text": [
            "Epoch 1/4\n",
            "703/703 [==============================] - 23s 22ms/step - loss: 0.7751 - accuracy: 0.7337 - val_loss: 0.6018 - val_accuracy: 0.7955\n",
            "Epoch 2/4\n",
            "703/703 [==============================] - 15s 21ms/step - loss: 0.4408 - accuracy: 0.8502 - val_loss: 0.5608 - val_accuracy: 0.8143\n",
            "Epoch 3/4\n",
            "703/703 [==============================] - 15s 21ms/step - loss: 0.3060 - accuracy: 0.8977 - val_loss: 0.5174 - val_accuracy: 0.8305\n",
            "Epoch 4/4\n",
            "703/703 [==============================] - 15s 21ms/step - loss: 0.2223 - accuracy: 0.9289 - val_loss: 0.5280 - val_accuracy: 0.8333\n"
          ]
        }
      ],
      "source": [
        "\n",
        "train_steps_per_epoch = x_train.shape[0]//batch_size\n",
        "val_steps_per_epoch = x_val.shape[0]//batch_size\n",
        "\n",
        "hist = model.fit(train_datagenerator,steps_per_epoch=train_steps_per_epoch,validation_data=val_datagenerator,\n",
        "                 validation_steps=val_steps_per_epoch,epochs=no_of_epochs,verbose=1)"
      ]
    },
    {
      "cell_type": "code",
      "execution_count": 26,
      "id": "9d42846c",
      "metadata": {
        "colab": {
          "base_uri": "https://localhost:8080/"
        },
        "id": "9d42846c",
        "outputId": "e4e5b7f6-d1af-425b-a546-81b44f8430de"
      },
      "outputs": [
        {
          "output_type": "stream",
          "name": "stderr",
          "text": [
            "/usr/local/lib/python3.10/dist-packages/keras/src/engine/training.py:3103: UserWarning: You are saving your model as an HDF5 file via `model.save()`. This file format is considered legacy. We recommend using instead the native Keras format, e.g. `model.save('my_model.keras')`.\n",
            "  saving_api.save_model(\n"
          ]
        }
      ],
      "source": [
        "model.save(\"cifar10_vgg16_rev1.h5\")"
      ]
    },
    {
      "cell_type": "code",
      "execution_count": 27,
      "id": "5138e80e",
      "metadata": {
        "colab": {
          "base_uri": "https://localhost:8080/"
        },
        "id": "5138e80e",
        "outputId": "8c95d0c0-6b44-49a2-e451-7c9d26ef2cd6"
      },
      "outputs": [
        {
          "output_type": "stream",
          "name": "stdout",
          "text": [
            "313/313 [==============================] - 4s 10ms/step - loss: 0.5387 - accuracy: 0.8220\n"
          ]
        }
      ],
      "source": [
        "scores = model.evaluate(X_test,y_test)"
      ]
    },
    {
      "cell_type": "code",
      "execution_count": 28,
      "id": "db9ecf0f",
      "metadata": {
        "colab": {
          "base_uri": "https://localhost:8080/"
        },
        "id": "db9ecf0f",
        "outputId": "f6fedfbd-6b36-472b-c51d-f8a24b0d2369"
      },
      "outputs": [
        {
          "output_type": "stream",
          "name": "stdout",
          "text": [
            "Test Accuracy 0.8220000267028809\n"
          ]
        }
      ],
      "source": [
        "print(f\"Test Accuracy {scores[1]}\")"
      ]
    },
    {
      "cell_type": "markdown",
      "id": "3349d365",
      "metadata": {
        "id": "3349d365"
      },
      "source": [
        "## The model overfits lets see by doing L1 regularisation"
      ]
    },
    {
      "cell_type": "code",
      "execution_count": 29,
      "id": "c3abd970",
      "metadata": {
        "id": "c3abd970"
      },
      "outputs": [],
      "source": [
        "## Add our dense layers\n",
        "\n",
        "x= BatchNormalization()(block3_output)\n",
        "\n",
        "x = Flatten()(x)\n",
        "\n",
        "#Adding the Dense layers\n",
        "\n",
        "x = Dense(512,activation=('relu'),kernel_regularizer=L1(0.01))(x)\n",
        "x = Dense(256,activation=('relu'),kernel_regularizer=L1(0.01))(x)\n",
        "output2= Dense(no_of_classes,activation=('softmax'))(x)\n",
        "#This is the classification layer"
      ]
    },
    {
      "cell_type": "code",
      "execution_count": 30,
      "id": "edb3f5c4",
      "metadata": {
        "colab": {
          "base_uri": "https://localhost:8080/"
        },
        "id": "edb3f5c4",
        "outputId": "81e3ad45-0164-40ab-a7c4-920aa45bc0a5"
      },
      "outputs": [
        {
          "output_type": "stream",
          "name": "stdout",
          "text": [
            "Model: \"model_1\"\n",
            "_________________________________________________________________\n",
            " Layer (type)                Output Shape              Param #   \n",
            "=================================================================\n",
            " input_1 (InputLayer)        [(None, 64, 64, 3)]       0         \n",
            "                                                                 \n",
            " block1_conv1 (Conv2D)       (None, 64, 64, 64)        1792      \n",
            "                                                                 \n",
            " block1_conv2 (Conv2D)       (None, 64, 64, 64)        36928     \n",
            "                                                                 \n",
            " block1_pool (MaxPooling2D)  (None, 32, 32, 64)        0         \n",
            "                                                                 \n",
            " block2_conv1 (Conv2D)       (None, 32, 32, 128)       73856     \n",
            "                                                                 \n",
            " block2_conv2 (Conv2D)       (None, 32, 32, 128)       147584    \n",
            "                                                                 \n",
            " block2_pool (MaxPooling2D)  (None, 16, 16, 128)       0         \n",
            "                                                                 \n",
            " block3_conv1 (Conv2D)       (None, 16, 16, 256)       295168    \n",
            "                                                                 \n",
            " block3_conv2 (Conv2D)       (None, 16, 16, 256)       590080    \n",
            "                                                                 \n",
            " block3_conv3 (Conv2D)       (None, 16, 16, 256)       590080    \n",
            "                                                                 \n",
            " block3_pool (MaxPooling2D)  (None, 8, 8, 256)         0         \n",
            "                                                                 \n",
            " batch_normalization_1 (Bat  (None, 8, 8, 256)         1024      \n",
            " chNormalization)                                                \n",
            "                                                                 \n",
            " flatten_1 (Flatten)         (None, 16384)             0         \n",
            "                                                                 \n",
            " dense_3 (Dense)             (None, 512)               8389120   \n",
            "                                                                 \n",
            " dense_4 (Dense)             (None, 256)               131328    \n",
            "                                                                 \n",
            " dense_5 (Dense)             (None, 10)                2570      \n",
            "                                                                 \n",
            "=================================================================\n",
            "Total params: 10259530 (39.14 MB)\n",
            "Trainable params: 8523530 (32.51 MB)\n",
            "Non-trainable params: 1736000 (6.62 MB)\n",
            "_________________________________________________________________\n"
          ]
        }
      ],
      "source": [
        "model2 = Model(inputs=basemodel.input, outputs=output2)\n",
        "model2.summary()"
      ]
    },
    {
      "cell_type": "code",
      "execution_count": 31,
      "id": "75a80a06",
      "metadata": {
        "id": "75a80a06"
      },
      "outputs": [],
      "source": [
        "opt = Adam(learning_rate=0.0001)"
      ]
    },
    {
      "cell_type": "code",
      "execution_count": 32,
      "id": "43e7a8b0",
      "metadata": {
        "colab": {
          "base_uri": "https://localhost:8080/"
        },
        "id": "43e7a8b0",
        "outputId": "08bceec9-b671-4950-befc-4a58895cf6ac"
      },
      "outputs": [
        {
          "output_type": "stream",
          "name": "stdout",
          "text": [
            "Epoch 1/10\n",
            "703/703 [==============================] - 18s 23ms/step - loss: 106.3777 - accuracy: 0.4564 - val_loss: 7.0791 - val_accuracy: 0.4283\n",
            "Epoch 2/10\n",
            "703/703 [==============================] - 16s 22ms/step - loss: 3.4316 - accuracy: 0.4904 - val_loss: 2.8138 - val_accuracy: 0.5401\n",
            "Epoch 3/10\n",
            "703/703 [==============================] - 16s 22ms/step - loss: 2.7604 - accuracy: 0.5615 - val_loss: 2.7034 - val_accuracy: 0.5859\n",
            "Epoch 4/10\n",
            "703/703 [==============================] - 16s 23ms/step - loss: 2.6774 - accuracy: 0.5923 - val_loss: 2.6509 - val_accuracy: 0.6020\n",
            "Epoch 5/10\n",
            "703/703 [==============================] - 16s 22ms/step - loss: 2.6282 - accuracy: 0.6111 - val_loss: 2.6128 - val_accuracy: 0.6128\n",
            "Epoch 6/10\n",
            "703/703 [==============================] - 16s 23ms/step - loss: 2.5968 - accuracy: 0.6190 - val_loss: 2.5889 - val_accuracy: 0.6138\n",
            "Epoch 7/10\n",
            "703/703 [==============================] - 17s 25ms/step - loss: 2.5708 - accuracy: 0.6265 - val_loss: 2.5632 - val_accuracy: 0.6314\n",
            "Epoch 8/10\n",
            "703/703 [==============================] - 16s 23ms/step - loss: 2.5472 - accuracy: 0.6334 - val_loss: 2.5520 - val_accuracy: 0.6212\n",
            "Epoch 9/10\n",
            "703/703 [==============================] - 16s 23ms/step - loss: 2.5321 - accuracy: 0.6356 - val_loss: 2.5207 - val_accuracy: 0.6402\n",
            "Epoch 10/10\n",
            "703/703 [==============================] - 16s 23ms/step - loss: 2.5159 - accuracy: 0.6426 - val_loss: 2.4955 - val_accuracy: 0.6524\n"
          ]
        }
      ],
      "source": [
        "model2.compile(optimizer=opt,loss=CategoricalCrossentropy(),metrics=['accuracy'])\n",
        "hist2 = model2.fit(train_datagenerator,steps_per_epoch=train_steps_per_epoch,validation_data=val_datagenerator,\n",
        "                 validation_steps=val_steps_per_epoch,epochs=10,verbose=1)\n",
        "model2.save(\"cifar10_vgg16_rev2.h5\")"
      ]
    },
    {
      "cell_type": "code",
      "execution_count": 33,
      "id": "2506b6ac",
      "metadata": {
        "colab": {
          "base_uri": "https://localhost:8080/"
        },
        "id": "2506b6ac",
        "outputId": "f52434b5-46ab-4ff9-915f-297d79132ee8"
      },
      "outputs": [
        {
          "output_type": "stream",
          "name": "stdout",
          "text": [
            "313/313 [==============================] - 3s 10ms/step - loss: 2.5014 - accuracy: 0.6488\n",
            "Test Accuracy 0.6488000154495239\n"
          ]
        }
      ],
      "source": [
        "scores2 = model2.evaluate(X_test,y_test)\n",
        "print(f\"Test Accuracy {scores2[1]}\")"
      ]
    },
    {
      "cell_type": "code",
      "execution_count": 33,
      "id": "bfa60d3f",
      "metadata": {
        "id": "bfa60d3f"
      },
      "outputs": [],
      "source": []
    },
    {
      "cell_type": "markdown",
      "id": "3a2f74b7",
      "metadata": {
        "id": "3a2f74b7"
      },
      "source": [
        "#### Drop out Regularisation"
      ]
    },
    {
      "cell_type": "code",
      "execution_count": 34,
      "id": "2a4454f2",
      "metadata": {
        "colab": {
          "base_uri": "https://localhost:8080/"
        },
        "id": "2a4454f2",
        "outputId": "e9e3ecc1-5754-42af-a8e6-c304a5f43f49"
      },
      "outputs": [
        {
          "output_type": "stream",
          "name": "stdout",
          "text": [
            "Model: \"model_2\"\n",
            "_________________________________________________________________\n",
            " Layer (type)                Output Shape              Param #   \n",
            "=================================================================\n",
            " input_1 (InputLayer)        [(None, 64, 64, 3)]       0         \n",
            "                                                                 \n",
            " block1_conv1 (Conv2D)       (None, 64, 64, 64)        1792      \n",
            "                                                                 \n",
            " block1_conv2 (Conv2D)       (None, 64, 64, 64)        36928     \n",
            "                                                                 \n",
            " block1_pool (MaxPooling2D)  (None, 32, 32, 64)        0         \n",
            "                                                                 \n",
            " block2_conv1 (Conv2D)       (None, 32, 32, 128)       73856     \n",
            "                                                                 \n",
            " block2_conv2 (Conv2D)       (None, 32, 32, 128)       147584    \n",
            "                                                                 \n",
            " block2_pool (MaxPooling2D)  (None, 16, 16, 128)       0         \n",
            "                                                                 \n",
            " block3_conv1 (Conv2D)       (None, 16, 16, 256)       295168    \n",
            "                                                                 \n",
            " block3_conv2 (Conv2D)       (None, 16, 16, 256)       590080    \n",
            "                                                                 \n",
            " block3_conv3 (Conv2D)       (None, 16, 16, 256)       590080    \n",
            "                                                                 \n",
            " block3_pool (MaxPooling2D)  (None, 8, 8, 256)         0         \n",
            "                                                                 \n",
            " batch_normalization_2 (Bat  (None, 8, 8, 256)         1024      \n",
            " chNormalization)                                                \n",
            "                                                                 \n",
            " flatten_2 (Flatten)         (None, 16384)             0         \n",
            "                                                                 \n",
            " dense_6 (Dense)             (None, 512)               8389120   \n",
            "                                                                 \n",
            " dropout (Dropout)           (None, 512)               0         \n",
            "                                                                 \n",
            " dense_7 (Dense)             (None, 256)               131328    \n",
            "                                                                 \n",
            " dropout_1 (Dropout)         (None, 256)               0         \n",
            "                                                                 \n",
            " dense_8 (Dense)             (None, 10)                2570      \n",
            "                                                                 \n",
            "=================================================================\n",
            "Total params: 10259530 (39.14 MB)\n",
            "Trainable params: 8523530 (32.51 MB)\n",
            "Non-trainable params: 1736000 (6.62 MB)\n",
            "_________________________________________________________________\n",
            "Epoch 1/10\n",
            "703/703 [==============================] - 18s 22ms/step - loss: 1.3807 - accuracy: 0.5445 - val_loss: 0.7697 - val_accuracy: 0.7426\n",
            "Epoch 2/10\n",
            "703/703 [==============================] - 15s 22ms/step - loss: 0.9329 - accuracy: 0.6870 - val_loss: 0.6574 - val_accuracy: 0.7786\n",
            "Epoch 3/10\n",
            "703/703 [==============================] - 15s 22ms/step - loss: 0.7921 - accuracy: 0.7357 - val_loss: 0.6007 - val_accuracy: 0.8019\n",
            "Epoch 4/10\n",
            "703/703 [==============================] - 15s 22ms/step - loss: 0.7059 - accuracy: 0.7640 - val_loss: 0.5536 - val_accuracy: 0.8159\n",
            "Epoch 5/10\n",
            "703/703 [==============================] - 15s 22ms/step - loss: 0.6410 - accuracy: 0.7834 - val_loss: 0.5489 - val_accuracy: 0.8185\n",
            "Epoch 6/10\n",
            "703/703 [==============================] - 15s 22ms/step - loss: 0.5888 - accuracy: 0.8030 - val_loss: 0.5297 - val_accuracy: 0.8235\n",
            "Epoch 7/10\n",
            "703/703 [==============================] - 15s 22ms/step - loss: 0.5401 - accuracy: 0.8170 - val_loss: 0.5052 - val_accuracy: 0.8339\n",
            "Epoch 8/10\n",
            "703/703 [==============================] - 15s 22ms/step - loss: 0.5036 - accuracy: 0.8310 - val_loss: 0.4926 - val_accuracy: 0.8373\n",
            "Epoch 9/10\n",
            "703/703 [==============================] - 15s 22ms/step - loss: 0.4714 - accuracy: 0.8423 - val_loss: 0.4802 - val_accuracy: 0.8395\n",
            "Epoch 10/10\n",
            "703/703 [==============================] - 15s 22ms/step - loss: 0.4418 - accuracy: 0.8507 - val_loss: 0.4771 - val_accuracy: 0.8423\n"
          ]
        }
      ],
      "source": [
        "## Add our dense layers\n",
        "x= BatchNormalization()(block3_output)\n",
        "x = Flatten()(x)\n",
        "\n",
        "#Adding the Dense layers\n",
        "\n",
        "x = Dense(512,activation=('relu'))(x)\n",
        "x = Dropout(0.5)(x)\n",
        "x = Dense(256,activation=('relu'))(x)\n",
        "x = Dropout(0.5)(x)\n",
        "output3= Dense(no_of_classes,activation=('softmax'))(x)\n",
        "#This is the classification layer\n",
        "\n",
        "model3 = Model(inputs=basemodel.input, outputs=output3)\n",
        "model3.summary()\n",
        "\n",
        "opt = Adam(learning_rate=0.0001)\n",
        "\n",
        "model3.compile(optimizer=opt,loss=CategoricalCrossentropy(),metrics=['accuracy'])\n",
        "hist3 = model3.fit(train_datagenerator,steps_per_epoch=train_steps_per_epoch,validation_data=val_datagenerator,\n",
        "                 validation_steps=val_steps_per_epoch,epochs=10,verbose=1)\n",
        "model3.save(\"cifar10_vgg16_rev3.h5\")"
      ]
    },
    {
      "cell_type": "code",
      "execution_count": 35,
      "id": "f7c5d51b",
      "metadata": {
        "colab": {
          "base_uri": "https://localhost:8080/"
        },
        "id": "f7c5d51b",
        "outputId": "9a5a495a-9b0f-425f-de5a-55a36796d9b0"
      },
      "outputs": [
        {
          "output_type": "stream",
          "name": "stdout",
          "text": [
            "313/313 [==============================] - 3s 9ms/step - loss: 0.4910 - accuracy: 0.8359\n",
            "Test Accuracy 0.8359000086784363\n"
          ]
        }
      ],
      "source": [
        "scores3 = model3.evaluate(X_test,y_test)\n",
        "print(f\"Test Accuracy {scores3[1]}\")"
      ]
    },
    {
      "cell_type": "code",
      "execution_count": 36,
      "id": "ed73ceda",
      "metadata": {
        "id": "ed73ceda"
      },
      "outputs": [],
      "source": [
        "### Reduce the complexity of the model"
      ]
    },
    {
      "cell_type": "code",
      "execution_count": 37,
      "id": "4d4e4498",
      "metadata": {
        "colab": {
          "base_uri": "https://localhost:8080/"
        },
        "id": "4d4e4498",
        "outputId": "4e780b5f-2908-4bb8-b43a-1722c357b2ed"
      },
      "outputs": [
        {
          "output_type": "stream",
          "name": "stdout",
          "text": [
            "Model: \"model_3\"\n",
            "_________________________________________________________________\n",
            " Layer (type)                Output Shape              Param #   \n",
            "=================================================================\n",
            " input_1 (InputLayer)        [(None, 64, 64, 3)]       0         \n",
            "                                                                 \n",
            " block1_conv1 (Conv2D)       (None, 64, 64, 64)        1792      \n",
            "                                                                 \n",
            " block1_conv2 (Conv2D)       (None, 64, 64, 64)        36928     \n",
            "                                                                 \n",
            " block1_pool (MaxPooling2D)  (None, 32, 32, 64)        0         \n",
            "                                                                 \n",
            " block2_conv1 (Conv2D)       (None, 32, 32, 128)       73856     \n",
            "                                                                 \n",
            " block2_conv2 (Conv2D)       (None, 32, 32, 128)       147584    \n",
            "                                                                 \n",
            " block2_pool (MaxPooling2D)  (None, 16, 16, 128)       0         \n",
            "                                                                 \n",
            " batch_normalization_3 (Bat  (None, 16, 16, 128)       512       \n",
            " chNormalization)                                                \n",
            "                                                                 \n",
            " flatten_3 (Flatten)         (None, 32768)             0         \n",
            "                                                                 \n",
            " dense_9 (Dense)             (None, 512)               16777728  \n",
            "                                                                 \n",
            " dropout_2 (Dropout)         (None, 512)               0         \n",
            "                                                                 \n",
            " dense_10 (Dense)            (None, 256)               131328    \n",
            "                                                                 \n",
            " dropout_3 (Dropout)         (None, 256)               0         \n",
            "                                                                 \n",
            " dense_11 (Dense)            (None, 10)                2570      \n",
            "                                                                 \n",
            "=================================================================\n",
            "Total params: 17172298 (65.51 MB)\n",
            "Trainable params: 16911882 (64.51 MB)\n",
            "Non-trainable params: 260416 (1017.25 KB)\n",
            "_________________________________________________________________\n",
            "Epoch 1/10\n",
            "703/703 [==============================] - 16s 21ms/step - loss: 1.6703 - accuracy: 0.4371 - val_loss: 1.1030 - val_accuracy: 0.6312\n",
            "Epoch 2/10\n",
            "703/703 [==============================] - 14s 20ms/step - loss: 1.2993 - accuracy: 0.5616 - val_loss: 1.0175 - val_accuracy: 0.6629\n",
            "Epoch 3/10\n",
            "703/703 [==============================] - 14s 20ms/step - loss: 1.1647 - accuracy: 0.6099 - val_loss: 0.9423 - val_accuracy: 0.6863\n",
            "Epoch 4/10\n",
            "703/703 [==============================] - 14s 20ms/step - loss: 1.0728 - accuracy: 0.6395 - val_loss: 0.8972 - val_accuracy: 0.7007\n",
            "Epoch 5/10\n",
            "703/703 [==============================] - 14s 20ms/step - loss: 1.0041 - accuracy: 0.6653 - val_loss: 0.8813 - val_accuracy: 0.7095\n",
            "Epoch 6/10\n",
            "703/703 [==============================] - 14s 20ms/step - loss: 0.9469 - accuracy: 0.6834 - val_loss: 0.8536 - val_accuracy: 0.7157\n",
            "Epoch 7/10\n",
            "703/703 [==============================] - 14s 20ms/step - loss: 0.8858 - accuracy: 0.7026 - val_loss: 0.8231 - val_accuracy: 0.7214\n",
            "Epoch 8/10\n",
            "703/703 [==============================] - 14s 20ms/step - loss: 0.8503 - accuracy: 0.7136 - val_loss: 0.8164 - val_accuracy: 0.7270\n",
            "Epoch 9/10\n",
            "703/703 [==============================] - 14s 20ms/step - loss: 0.8069 - accuracy: 0.7275 - val_loss: 0.8034 - val_accuracy: 0.7354\n",
            "Epoch 10/10\n",
            "703/703 [==============================] - 14s 20ms/step - loss: 0.7802 - accuracy: 0.7367 - val_loss: 0.7787 - val_accuracy: 0.7398\n"
          ]
        }
      ],
      "source": [
        "block2_output = basemodel.get_layer('block2_pool').output\n",
        "\n",
        "## Add our dense layers\n",
        "x= BatchNormalization()(block2_output)\n",
        "x = Flatten()(x)\n",
        "\n",
        "#Adding the Dense layers\n",
        "\n",
        "x = Dense(512,activation=('relu'))(x)\n",
        "x = Dropout(0.5)(x)\n",
        "x = Dense(256,activation=('relu'))(x)\n",
        "x = Dropout(0.5)(x)\n",
        "output4= Dense(no_of_classes,activation=('softmax'))(x)\n",
        "#This is the classification layer\n",
        "\n",
        "model4 = Model(inputs=basemodel.input, outputs=output4)\n",
        "model4.summary()\n",
        "\n",
        "opt = Adam(learning_rate=0.0001)\n",
        "\n",
        "model4.compile(optimizer=opt,loss=CategoricalCrossentropy(),metrics=['accuracy'])\n",
        "hist4 = model4.fit(train_datagenerator,steps_per_epoch=train_steps_per_epoch,validation_data=val_datagenerator,\n",
        "                 validation_steps=val_steps_per_epoch,epochs=10,verbose=1)\n",
        "model3.save(\"cifar10_vgg16_rev4.h5\")"
      ]
    },
    {
      "cell_type": "code",
      "execution_count": 38,
      "id": "2e48e09c",
      "metadata": {
        "colab": {
          "base_uri": "https://localhost:8080/"
        },
        "id": "2e48e09c",
        "outputId": "29743686-74b6-46ce-dc0c-6073594d807f"
      },
      "outputs": [
        {
          "output_type": "stream",
          "name": "stdout",
          "text": [
            "313/313 [==============================] - 2s 7ms/step - loss: 0.7907 - accuracy: 0.7380\n",
            "Test Accuracy 0.7379999756813049\n"
          ]
        }
      ],
      "source": [
        "scores4 = model4.evaluate(X_test,y_test)\n",
        "print(f\"Test Accuracy {scores4[1]}\")"
      ]
    },
    {
      "cell_type": "code",
      "source": [
        "## Add our dense layers\n",
        "x= BatchNormalization()(block3_output)\n",
        "x = Flatten()(x)\n",
        "\n",
        "#Adding the Dense layers\n",
        "\n",
        "x = Dense(512,activation=('relu'))(x)\n",
        "x = Dropout(0.25)(x)\n",
        "x = Dense(256,activation=('relu'))(x)\n",
        "x = Dropout(0.25)(x)\n",
        "output5= Dense(no_of_classes,activation=('softmax'))(x)\n",
        "#This is the classification layer\n",
        "\n",
        "model5 = Model(inputs=basemodel.input, outputs=output5)\n",
        "model5.summary()\n",
        "\n",
        "opt = Adam(learning_rate=0.0001)\n",
        "\n",
        "model5.compile(optimizer=opt,loss=CategoricalCrossentropy(),metrics=['accuracy'])\n",
        "hist5 = model5.fit(train_datagenerator,steps_per_epoch=train_steps_per_epoch,validation_data=val_datagenerator,\n",
        "                 validation_steps=val_steps_per_epoch,epochs=10,verbose=1)\n",
        "model5.save(\"cifar10_vgg16_rev5.h5\")"
      ],
      "metadata": {
        "colab": {
          "base_uri": "https://localhost:8080/"
        },
        "id": "HjrzrRyleFu4",
        "outputId": "07791a27-6ea3-43fb-e202-19f3b2a77d20"
      },
      "id": "HjrzrRyleFu4",
      "execution_count": 39,
      "outputs": [
        {
          "output_type": "stream",
          "name": "stdout",
          "text": [
            "Model: \"model_4\"\n",
            "_________________________________________________________________\n",
            " Layer (type)                Output Shape              Param #   \n",
            "=================================================================\n",
            " input_1 (InputLayer)        [(None, 64, 64, 3)]       0         \n",
            "                                                                 \n",
            " block1_conv1 (Conv2D)       (None, 64, 64, 64)        1792      \n",
            "                                                                 \n",
            " block1_conv2 (Conv2D)       (None, 64, 64, 64)        36928     \n",
            "                                                                 \n",
            " block1_pool (MaxPooling2D)  (None, 32, 32, 64)        0         \n",
            "                                                                 \n",
            " block2_conv1 (Conv2D)       (None, 32, 32, 128)       73856     \n",
            "                                                                 \n",
            " block2_conv2 (Conv2D)       (None, 32, 32, 128)       147584    \n",
            "                                                                 \n",
            " block2_pool (MaxPooling2D)  (None, 16, 16, 128)       0         \n",
            "                                                                 \n",
            " block3_conv1 (Conv2D)       (None, 16, 16, 256)       295168    \n",
            "                                                                 \n",
            " block3_conv2 (Conv2D)       (None, 16, 16, 256)       590080    \n",
            "                                                                 \n",
            " block3_conv3 (Conv2D)       (None, 16, 16, 256)       590080    \n",
            "                                                                 \n",
            " block3_pool (MaxPooling2D)  (None, 8, 8, 256)         0         \n",
            "                                                                 \n",
            " batch_normalization_4 (Bat  (None, 8, 8, 256)         1024      \n",
            " chNormalization)                                                \n",
            "                                                                 \n",
            " flatten_4 (Flatten)         (None, 16384)             0         \n",
            "                                                                 \n",
            " dense_12 (Dense)            (None, 512)               8389120   \n",
            "                                                                 \n",
            " dropout_4 (Dropout)         (None, 512)               0         \n",
            "                                                                 \n",
            " dense_13 (Dense)            (None, 256)               131328    \n",
            "                                                                 \n",
            " dropout_5 (Dropout)         (None, 256)               0         \n",
            "                                                                 \n",
            " dense_14 (Dense)            (None, 10)                2570      \n",
            "                                                                 \n",
            "=================================================================\n",
            "Total params: 10259530 (39.14 MB)\n",
            "Trainable params: 8523530 (32.51 MB)\n",
            "Non-trainable params: 1736000 (6.62 MB)\n",
            "_________________________________________________________________\n",
            "Epoch 1/10\n",
            "703/703 [==============================] - 17s 22ms/step - loss: 1.0055 - accuracy: 0.6594 - val_loss: 0.6451 - val_accuracy: 0.7770\n",
            "Epoch 2/10\n",
            "703/703 [==============================] - 15s 22ms/step - loss: 0.6604 - accuracy: 0.7752 - val_loss: 0.5790 - val_accuracy: 0.8003\n",
            "Epoch 3/10\n",
            "703/703 [==============================] - 15s 21ms/step - loss: 0.5315 - accuracy: 0.8165 - val_loss: 0.5237 - val_accuracy: 0.8213\n",
            "Epoch 4/10\n",
            "703/703 [==============================] - 15s 22ms/step - loss: 0.4445 - accuracy: 0.8477 - val_loss: 0.5080 - val_accuracy: 0.8343\n",
            "Epoch 5/10\n",
            "703/703 [==============================] - 15s 22ms/step - loss: 0.3827 - accuracy: 0.8689 - val_loss: 0.5006 - val_accuracy: 0.8363\n",
            "Epoch 6/10\n",
            "703/703 [==============================] - 15s 22ms/step - loss: 0.3321 - accuracy: 0.8853 - val_loss: 0.4910 - val_accuracy: 0.8440\n",
            "Epoch 7/10\n",
            "703/703 [==============================] - 15s 22ms/step - loss: 0.2921 - accuracy: 0.8988 - val_loss: 0.4878 - val_accuracy: 0.8433\n",
            "Epoch 8/10\n",
            "703/703 [==============================] - 15s 21ms/step - loss: 0.2537 - accuracy: 0.9122 - val_loss: 0.4986 - val_accuracy: 0.8494\n",
            "Epoch 9/10\n",
            "703/703 [==============================] - 15s 22ms/step - loss: 0.2247 - accuracy: 0.9233 - val_loss: 0.4918 - val_accuracy: 0.8534\n",
            "Epoch 10/10\n",
            "703/703 [==============================] - 15s 22ms/step - loss: 0.2079 - accuracy: 0.9287 - val_loss: 0.4984 - val_accuracy: 0.8558\n"
          ]
        }
      ]
    },
    {
      "cell_type": "code",
      "source": [
        "scores5 = model5.evaluate(X_test,y_test)\n",
        "print(f\"Test Accuracy {scores5[1]}\")"
      ],
      "metadata": {
        "colab": {
          "base_uri": "https://localhost:8080/"
        },
        "id": "cBB1kQyQeZmA",
        "outputId": "8a37a8c3-f18c-4a2a-cd14-8c0ae565e05e"
      },
      "id": "cBB1kQyQeZmA",
      "execution_count": 40,
      "outputs": [
        {
          "output_type": "stream",
          "name": "stdout",
          "text": [
            "313/313 [==============================] - 3s 9ms/step - loss: 0.5205 - accuracy: 0.8387\n",
            "Test Accuracy 0.838699996471405\n"
          ]
        }
      ]
    },
    {
      "cell_type": "code",
      "source": [
        "## Add our dense layers\n",
        "x= BatchNormalization()(block3_output)\n",
        "x = Flatten()(x)\n",
        "\n",
        "#Adding the Dense layers\n",
        "\n",
        "x = Dense(512,activation=('relu'))(x)\n",
        "x = BatchNormalization()(x)\n",
        "x = Dropout(0.25)(x)\n",
        "x = Dense(256,activation=('relu'))(x)\n",
        "x = BatchNormalization()(x)\n",
        "x = Dropout(0.25)(x)\n",
        "output6= Dense(no_of_classes,activation=('softmax'))(x)\n",
        "#This is the classification layer\n",
        "\n",
        "model6 = Model(inputs=basemodel.input, outputs=output6)\n",
        "model6.summary()\n",
        "\n",
        "opt = Adam(learning_rate=0.0001)\n",
        "\n",
        "model6.compile(optimizer=opt,loss=CategoricalCrossentropy(),metrics=['accuracy'])\n",
        "hist6 = model6.fit(train_datagenerator,steps_per_epoch=train_steps_per_epoch,validation_data=val_datagenerator,\n",
        "                 validation_steps=val_steps_per_epoch,epochs=10,verbose=1)\n",
        "model6.save(\"cifar10_vgg16_rev6.h5\")"
      ],
      "metadata": {
        "colab": {
          "base_uri": "https://localhost:8080/"
        },
        "id": "KFuErdeSfTRf",
        "outputId": "4b268b33-89c0-40fc-8beb-79621cfeba1d"
      },
      "id": "KFuErdeSfTRf",
      "execution_count": 41,
      "outputs": [
        {
          "output_type": "stream",
          "name": "stdout",
          "text": [
            "Model: \"model_5\"\n",
            "_________________________________________________________________\n",
            " Layer (type)                Output Shape              Param #   \n",
            "=================================================================\n",
            " input_1 (InputLayer)        [(None, 64, 64, 3)]       0         \n",
            "                                                                 \n",
            " block1_conv1 (Conv2D)       (None, 64, 64, 64)        1792      \n",
            "                                                                 \n",
            " block1_conv2 (Conv2D)       (None, 64, 64, 64)        36928     \n",
            "                                                                 \n",
            " block1_pool (MaxPooling2D)  (None, 32, 32, 64)        0         \n",
            "                                                                 \n",
            " block2_conv1 (Conv2D)       (None, 32, 32, 128)       73856     \n",
            "                                                                 \n",
            " block2_conv2 (Conv2D)       (None, 32, 32, 128)       147584    \n",
            "                                                                 \n",
            " block2_pool (MaxPooling2D)  (None, 16, 16, 128)       0         \n",
            "                                                                 \n",
            " block3_conv1 (Conv2D)       (None, 16, 16, 256)       295168    \n",
            "                                                                 \n",
            " block3_conv2 (Conv2D)       (None, 16, 16, 256)       590080    \n",
            "                                                                 \n",
            " block3_conv3 (Conv2D)       (None, 16, 16, 256)       590080    \n",
            "                                                                 \n",
            " block3_pool (MaxPooling2D)  (None, 8, 8, 256)         0         \n",
            "                                                                 \n",
            " batch_normalization_5 (Bat  (None, 8, 8, 256)         1024      \n",
            " chNormalization)                                                \n",
            "                                                                 \n",
            " flatten_5 (Flatten)         (None, 16384)             0         \n",
            "                                                                 \n",
            " dense_15 (Dense)            (None, 512)               8389120   \n",
            "                                                                 \n",
            " batch_normalization_6 (Bat  (None, 512)               2048      \n",
            " chNormalization)                                                \n",
            "                                                                 \n",
            " dropout_6 (Dropout)         (None, 512)               0         \n",
            "                                                                 \n",
            " dense_16 (Dense)            (None, 256)               131328    \n",
            "                                                                 \n",
            " batch_normalization_7 (Bat  (None, 256)               1024      \n",
            " chNormalization)                                                \n",
            "                                                                 \n",
            " dropout_7 (Dropout)         (None, 256)               0         \n",
            "                                                                 \n",
            " dense_17 (Dense)            (None, 10)                2570      \n",
            "                                                                 \n",
            "=================================================================\n",
            "Total params: 10262602 (39.15 MB)\n",
            "Trainable params: 8525066 (32.52 MB)\n",
            "Non-trainable params: 1737536 (6.63 MB)\n",
            "_________________________________________________________________\n",
            "Epoch 1/10\n",
            "703/703 [==============================] - 19s 23ms/step - loss: 1.0331 - accuracy: 0.6607 - val_loss: 0.6443 - val_accuracy: 0.7706\n",
            "Epoch 2/10\n",
            "703/703 [==============================] - 16s 22ms/step - loss: 0.6499 - accuracy: 0.7781 - val_loss: 0.5638 - val_accuracy: 0.8119\n",
            "Epoch 3/10\n",
            "703/703 [==============================] - 16s 23ms/step - loss: 0.5446 - accuracy: 0.8128 - val_loss: 0.5310 - val_accuracy: 0.8217\n",
            "Epoch 4/10\n",
            "703/703 [==============================] - 16s 22ms/step - loss: 0.4600 - accuracy: 0.8404 - val_loss: 0.5005 - val_accuracy: 0.8321\n",
            "Epoch 5/10\n",
            "703/703 [==============================] - 17s 24ms/step - loss: 0.4146 - accuracy: 0.8580 - val_loss: 0.4861 - val_accuracy: 0.8375\n",
            "Epoch 6/10\n",
            "703/703 [==============================] - 16s 22ms/step - loss: 0.3677 - accuracy: 0.8741 - val_loss: 0.4848 - val_accuracy: 0.8379\n",
            "Epoch 7/10\n",
            "703/703 [==============================] - 16s 22ms/step - loss: 0.3256 - accuracy: 0.8883 - val_loss: 0.4659 - val_accuracy: 0.8508\n",
            "Epoch 8/10\n",
            "703/703 [==============================] - 16s 22ms/step - loss: 0.2920 - accuracy: 0.8995 - val_loss: 0.4805 - val_accuracy: 0.8407\n",
            "Epoch 9/10\n",
            "703/703 [==============================] - 16s 23ms/step - loss: 0.2636 - accuracy: 0.9096 - val_loss: 0.4718 - val_accuracy: 0.8429\n",
            "Epoch 10/10\n",
            "703/703 [==============================] - 16s 22ms/step - loss: 0.2412 - accuracy: 0.9168 - val_loss: 0.4713 - val_accuracy: 0.8450\n"
          ]
        }
      ]
    },
    {
      "cell_type": "code",
      "source": [
        "scores6 = model6.evaluate(X_test,y_test)\n",
        "print(f\"Test Accuracy {scores6[1]}\")"
      ],
      "metadata": {
        "colab": {
          "base_uri": "https://localhost:8080/"
        },
        "id": "yrbFgSu7fqdy",
        "outputId": "5111b0bd-779f-4def-d684-5492bde95ac6"
      },
      "id": "yrbFgSu7fqdy",
      "execution_count": 42,
      "outputs": [
        {
          "output_type": "stream",
          "name": "stdout",
          "text": [
            "313/313 [==============================] - 3s 10ms/step - loss: 0.4977 - accuracy: 0.8419\n",
            "Test Accuracy 0.8418999910354614\n"
          ]
        }
      ]
    },
    {
      "cell_type": "code",
      "source": [
        "## Add our dense layers\n",
        "block5_output = basemodel.get_layer('block5_pool').output\n",
        "x= BatchNormalization()(block5_output)\n",
        "x = Flatten()(x)\n",
        "\n",
        "#Adding the Dense layers\n",
        "\n",
        "x = Dense(512,activation=('relu'))(x)\n",
        "x = BatchNormalization()(x)\n",
        "x = Dropout(0.25)(x)\n",
        "x = Dense(256,activation=('relu'))(x)\n",
        "x = BatchNormalization()(x)\n",
        "x = Dropout(0.25)(x)\n",
        "output7= Dense(no_of_classes,activation=('softmax'))(x)\n",
        "#This is the classification layer\n",
        "\n",
        "model7 = Model(inputs=basemodel.input, outputs=output7)\n",
        "model7.summary()\n",
        "\n",
        "opt = Adam(learning_rate=0.0001)\n",
        "\n",
        "model7.compile(optimizer=opt,loss=CategoricalCrossentropy(),metrics=['accuracy'])\n",
        "hist7 = model7.fit(train_datagenerator,steps_per_epoch=train_steps_per_epoch,validation_data=val_datagenerator,\n",
        "                 validation_steps=val_steps_per_epoch,epochs=10,verbose=1)\n",
        "model7.save(\"cifar10_vgg16_rev7.h5\")"
      ],
      "metadata": {
        "colab": {
          "base_uri": "https://localhost:8080/"
        },
        "id": "J6I4U3FTgUlX",
        "outputId": "9fe801c8-7b20-4afd-dfb2-4ac90bce0735"
      },
      "id": "J6I4U3FTgUlX",
      "execution_count": 43,
      "outputs": [
        {
          "output_type": "stream",
          "name": "stdout",
          "text": [
            "Model: \"model_6\"\n",
            "_________________________________________________________________\n",
            " Layer (type)                Output Shape              Param #   \n",
            "=================================================================\n",
            " input_1 (InputLayer)        [(None, 64, 64, 3)]       0         \n",
            "                                                                 \n",
            " block1_conv1 (Conv2D)       (None, 64, 64, 64)        1792      \n",
            "                                                                 \n",
            " block1_conv2 (Conv2D)       (None, 64, 64, 64)        36928     \n",
            "                                                                 \n",
            " block1_pool (MaxPooling2D)  (None, 32, 32, 64)        0         \n",
            "                                                                 \n",
            " block2_conv1 (Conv2D)       (None, 32, 32, 128)       73856     \n",
            "                                                                 \n",
            " block2_conv2 (Conv2D)       (None, 32, 32, 128)       147584    \n",
            "                                                                 \n",
            " block2_pool (MaxPooling2D)  (None, 16, 16, 128)       0         \n",
            "                                                                 \n",
            " block3_conv1 (Conv2D)       (None, 16, 16, 256)       295168    \n",
            "                                                                 \n",
            " block3_conv2 (Conv2D)       (None, 16, 16, 256)       590080    \n",
            "                                                                 \n",
            " block3_conv3 (Conv2D)       (None, 16, 16, 256)       590080    \n",
            "                                                                 \n",
            " block3_pool (MaxPooling2D)  (None, 8, 8, 256)         0         \n",
            "                                                                 \n",
            " block4_conv1 (Conv2D)       (None, 8, 8, 512)         1180160   \n",
            "                                                                 \n",
            " block4_conv2 (Conv2D)       (None, 8, 8, 512)         2359808   \n",
            "                                                                 \n",
            " block4_conv3 (Conv2D)       (None, 8, 8, 512)         2359808   \n",
            "                                                                 \n",
            " block4_pool (MaxPooling2D)  (None, 4, 4, 512)         0         \n",
            "                                                                 \n",
            " block5_conv1 (Conv2D)       (None, 4, 4, 512)         2359808   \n",
            "                                                                 \n",
            " block5_conv2 (Conv2D)       (None, 4, 4, 512)         2359808   \n",
            "                                                                 \n",
            " block5_conv3 (Conv2D)       (None, 4, 4, 512)         2359808   \n",
            "                                                                 \n",
            " block5_pool (MaxPooling2D)  (None, 2, 2, 512)         0         \n",
            "                                                                 \n",
            " batch_normalization_8 (Bat  (None, 2, 2, 512)         2048      \n",
            " chNormalization)                                                \n",
            "                                                                 \n",
            " flatten_6 (Flatten)         (None, 2048)              0         \n",
            "                                                                 \n",
            " dense_18 (Dense)            (None, 512)               1049088   \n",
            "                                                                 \n",
            " batch_normalization_9 (Bat  (None, 512)               2048      \n",
            " chNormalization)                                                \n",
            "                                                                 \n",
            " dropout_8 (Dropout)         (None, 512)               0         \n",
            "                                                                 \n",
            " dense_19 (Dense)            (None, 256)               131328    \n",
            "                                                                 \n",
            " batch_normalization_10 (Ba  (None, 256)               1024      \n",
            " tchNormalization)                                               \n",
            "                                                                 \n",
            " dropout_9 (Dropout)         (None, 256)               0         \n",
            "                                                                 \n",
            " dense_20 (Dense)            (None, 10)                2570      \n",
            "                                                                 \n",
            "=================================================================\n",
            "Total params: 15902794 (60.66 MB)\n",
            "Trainable params: 1185546 (4.52 MB)\n",
            "Non-trainable params: 14717248 (56.14 MB)\n",
            "_________________________________________________________________\n",
            "Epoch 1/10\n",
            "703/703 [==============================] - 25s 31ms/step - loss: 1.5432 - accuracy: 0.5030 - val_loss: 1.0448 - val_accuracy: 0.6504\n",
            "Epoch 2/10\n",
            "703/703 [==============================] - 21s 30ms/step - loss: 1.1136 - accuracy: 0.6234 - val_loss: 0.9455 - val_accuracy: 0.6759\n",
            "Epoch 3/10\n",
            "703/703 [==============================] - 20s 29ms/step - loss: 0.9772 - accuracy: 0.6651 - val_loss: 0.8763 - val_accuracy: 0.6995\n",
            "Epoch 4/10\n",
            "703/703 [==============================] - 20s 28ms/step - loss: 0.9022 - accuracy: 0.6890 - val_loss: 0.8615 - val_accuracy: 0.7077\n",
            "Epoch 5/10\n",
            "703/703 [==============================] - 21s 30ms/step - loss: 0.8433 - accuracy: 0.7068 - val_loss: 0.8382 - val_accuracy: 0.7129\n",
            "Epoch 6/10\n",
            "703/703 [==============================] - 21s 29ms/step - loss: 0.7971 - accuracy: 0.7225 - val_loss: 0.8174 - val_accuracy: 0.7244\n",
            "Epoch 7/10\n",
            "703/703 [==============================] - 21s 30ms/step - loss: 0.7594 - accuracy: 0.7356 - val_loss: 0.8064 - val_accuracy: 0.7240\n",
            "Epoch 8/10\n",
            "703/703 [==============================] - 21s 29ms/step - loss: 0.7214 - accuracy: 0.7470 - val_loss: 0.7955 - val_accuracy: 0.7280\n",
            "Epoch 9/10\n",
            "703/703 [==============================] - 20s 29ms/step - loss: 0.6958 - accuracy: 0.7587 - val_loss: 0.7821 - val_accuracy: 0.7304\n",
            "Epoch 10/10\n",
            "703/703 [==============================] - 20s 29ms/step - loss: 0.6665 - accuracy: 0.7659 - val_loss: 0.7802 - val_accuracy: 0.7324\n"
          ]
        }
      ]
    },
    {
      "cell_type": "code",
      "source": [
        "\n",
        "scores7 = model7.evaluate(X_test,y_test)\n",
        "print(f\"Test Accuracy {scores7[1]}\")"
      ],
      "metadata": {
        "colab": {
          "base_uri": "https://localhost:8080/"
        },
        "id": "pG_s5emYkEJ5",
        "outputId": "a698302f-8b71-474c-f70e-e23ed0891634"
      },
      "id": "pG_s5emYkEJ5",
      "execution_count": 44,
      "outputs": [
        {
          "output_type": "stream",
          "name": "stdout",
          "text": [
            "313/313 [==============================] - 5s 16ms/step - loss: 0.7843 - accuracy: 0.7352\n",
            "Test Accuracy 0.7351999878883362\n"
          ]
        }
      ]
    },
    {
      "cell_type": "code",
      "source": [],
      "metadata": {
        "id": "FIAW8k9AkMUS"
      },
      "id": "FIAW8k9AkMUS",
      "execution_count": 44,
      "outputs": []
    }
  ],
  "metadata": {
    "kernelspec": {
      "display_name": "Python 3",
      "name": "python3"
    },
    "language_info": {
      "codemirror_mode": {
        "name": "ipython",
        "version": 3
      },
      "file_extension": ".py",
      "mimetype": "text/x-python",
      "name": "python",
      "nbconvert_exporter": "python",
      "pygments_lexer": "ipython3",
      "version": "3.9.12"
    },
    "colab": {
      "provenance": [],
      "gpuType": "T4",
      "include_colab_link": true
    },
    "accelerator": "GPU"
  },
  "nbformat": 4,
  "nbformat_minor": 5
}